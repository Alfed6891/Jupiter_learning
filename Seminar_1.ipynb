{
 "cells": [
  {
   "attachments": {},
   "cell_type": "markdown",
   "metadata": {},
   "source": [
    "## Соедините два словаря в один"
   ]
  },
  {
   "cell_type": "code",
   "execution_count": 206,
   "metadata": {},
   "outputs": [
    {
     "data": {
      "text/plain": [
       "({'one': 1, 'Two': 2, 'three': 3}, {'four': 4, 'five': 5, 'six': 6})"
      ]
     },
     "execution_count": 206,
     "metadata": {},
     "output_type": "execute_result"
    }
   ],
   "source": [
    "dict_1 = {'one': 1, 'Two' : 2, 'three': 3}\n",
    "dict_2 = { 'four': 4, 'five': 5, 'six' : 6}\n",
    "dict_1, dict_2"
   ]
  },
  {
   "cell_type": "code",
   "execution_count": 207,
   "metadata": {},
   "outputs": [
    {
     "data": {
      "text/plain": [
       "{'one': 1, 'Two': 2, 'three': 3, 'four': 4, 'five': 5, 'six': 6}"
      ]
     },
     "execution_count": 207,
     "metadata": {},
     "output_type": "execute_result"
    }
   ],
   "source": [
    "dict_3 = dict_1 | dict_2\n",
    "dict_3"
   ]
  },
  {
   "cell_type": "code",
   "execution_count": 208,
   "metadata": {},
   "outputs": [
    {
     "data": {
      "text/plain": [
       "{'one': 1, 'Two': 2, 'three': 3, 'four': 4, 'five': 5, 'six': 6}"
      ]
     },
     "execution_count": 208,
     "metadata": {},
     "output_type": "execute_result"
    }
   ],
   "source": [
    "dict_1.update(dict_2)\n",
    "dict_1"
   ]
  },
  {
   "cell_type": "code",
   "execution_count": 209,
   "metadata": {},
   "outputs": [
    {
     "data": {
      "text/plain": [
       "{'one': 1, 'Two': 2, 'three': 3, 'four': 4, 'five': 5, 'six': 6}"
      ]
     },
     "execution_count": 209,
     "metadata": {},
     "output_type": "execute_result"
    }
   ],
   "source": [
    "dict_4 = {**dict_1, **dict_2}\n",
    "dict_4"
   ]
  },
  {
   "attachments": {},
   "cell_type": "markdown",
   "metadata": {},
   "source": [
    "### Напишите функцию, которая на вход принимает 2 словаря и возвращает один объединенный словарь\n",
    "Использовать аннотирование типов"
   ]
  },
  {
   "cell_type": "code",
   "execution_count": 210,
   "metadata": {},
   "outputs": [],
   "source": [
    "dict_1 = {'one': 1, 'Two' : 2, 'three': 3}\n",
    "dict_2 = { 'four': 4, 'five': 5, 'six' : 6}"
   ]
  },
  {
   "cell_type": "code",
   "execution_count": 211,
   "metadata": {},
   "outputs": [],
   "source": [
    "def dict_connection (d_1 : dict, d_2: dict)-> dict:\n",
    "    return d_1 | d_2"
   ]
  },
  {
   "cell_type": "code",
   "execution_count": 212,
   "metadata": {},
   "outputs": [
    {
     "data": {
      "text/plain": [
       "{'one': 1, 'Two': 2, 'three': 3, 'four': 4, 'five': 5, 'six': 6}"
      ]
     },
     "execution_count": 212,
     "metadata": {},
     "output_type": "execute_result"
    }
   ],
   "source": [
    "dict_connection (dict_1, dict_2)"
   ]
  },
  {
   "attachments": {},
   "cell_type": "markdown",
   "metadata": {},
   "source": [
    "## Задание 2."
   ]
  },
  {
   "attachments": {},
   "cell_type": "markdown",
   "metadata": {},
   "source": [
    "Напишите функцию, которая из двух списков, делает один словарь, где\n",
    "элементы из первого списка - ключи, а элементы из второго списка -\n",
    "значения.\n",
    "Используйте аннотирование типов."
   ]
  },
  {
   "attachments": {},
   "cell_type": "markdown",
   "metadata": {},
   "source": [
    "### 2.1 Используя цикл for"
   ]
  },
  {
   "cell_type": "code",
   "execution_count": 213,
   "metadata": {},
   "outputs": [],
   "source": [
    "keys = ['one', 'Two', 'Three']\n",
    "values = [1, 2, 3]"
   ]
  },
  {
   "cell_type": "code",
   "execution_count": 214,
   "metadata": {},
   "outputs": [],
   "source": [
    "def connection_dict (l_1 : list, l_2 : list) -> dict:\n",
    "    new_dict = {}\n",
    "    for i in range (len(l_1)):\n",
    "        new_dict[l_1[i]] = l_2[i]\n",
    "    return new_dict"
   ]
  },
  {
   "cell_type": "code",
   "execution_count": 215,
   "metadata": {},
   "outputs": [
    {
     "data": {
      "text/plain": [
       "{'one': 1, 'Two': 2, 'Three': 3}"
      ]
     },
     "execution_count": 215,
     "metadata": {},
     "output_type": "execute_result"
    }
   ],
   "source": [
    "connection_dict (keys, values)"
   ]
  },
  {
   "attachments": {},
   "cell_type": "markdown",
   "metadata": {},
   "source": [
    "### 2.2 Используя dict comprehensions"
   ]
  },
  {
   "cell_type": "code",
   "execution_count": 216,
   "metadata": {},
   "outputs": [],
   "source": [
    "def connection_dict_2 (l_1 : list, l_2 : list) -> dict:\n",
    "    return{l_1[i]: l_2[i] for i in range (len(l_1))}"
   ]
  },
  {
   "cell_type": "code",
   "execution_count": 217,
   "metadata": {},
   "outputs": [
    {
     "data": {
      "text/plain": [
       "{'one': 1, 'Two': 2, 'Three': 3}"
      ]
     },
     "execution_count": 217,
     "metadata": {},
     "output_type": "execute_result"
    }
   ],
   "source": [
    "connection_dict_2(keys, values)"
   ]
  },
  {
   "attachments": {},
   "cell_type": "markdown",
   "metadata": {},
   "source": [
    "## Задание 3"
   ]
  },
  {
   "attachments": {},
   "cell_type": "markdown",
   "metadata": {},
   "source": [
    "### Извлеките только два ключа name и age из представленного словаря:"
   ]
  },
  {
   "cell_type": "code",
   "execution_count": 218,
   "metadata": {},
   "outputs": [],
   "source": [
    "Client_dict ={\n",
    "    'name': 'john',\n",
    "    'age': 25,\n",
    "    'salary': 5000,\n",
    "    'Sity': 'Moscow'\n",
    "}"
   ]
  },
  {
   "attachments": {},
   "cell_type": "markdown",
   "metadata": {},
   "source": [
    "### 3.1 Напишите функцию с циклом for\n",
    "Функция на вход принимает:\n",
    "* исходный словарь\n",
    "* ключи, которые нужно извлечь (аргумент по умолчанию)\n",
    "\n",
    "На выходе словарь с нужными ключами\n",
    "\n",
    "Используйте аннотирование типов"
   ]
  },
  {
   "cell_type": "code",
   "execution_count": 219,
   "metadata": {},
   "outputs": [],
   "source": [
    "def Find_keys(one_dict: dict, keys: list=['name', 'age']) -> dict:\n",
    "    new_dict = {}\n",
    "    for k in keys:\n",
    "        new_dict[k] = one_dict[k]\n",
    "    return new_dict"
   ]
  },
  {
   "cell_type": "code",
   "execution_count": 220,
   "metadata": {},
   "outputs": [
    {
     "data": {
      "text/plain": [
       "{'name': 'john', 'age': 25}"
      ]
     },
     "execution_count": 220,
     "metadata": {},
     "output_type": "execute_result"
    }
   ],
   "source": [
    "Find_keys(Client_dict)"
   ]
  },
  {
   "attachments": {},
   "cell_type": "markdown",
   "metadata": {},
   "source": [
    "### 3.2 Используя dict comprehensions"
   ]
  },
  {
   "cell_type": "code",
   "execution_count": 221,
   "metadata": {},
   "outputs": [
    {
     "data": {
      "text/plain": [
       "{'name': 'john', 'age': 25}"
      ]
     },
     "execution_count": 221,
     "metadata": {},
     "output_type": "execute_result"
    }
   ],
   "source": [
    "{k: Client_dict[k] for k in ['name', 'age']}"
   ]
  },
  {
   "attachments": {},
   "cell_type": "markdown",
   "metadata": {},
   "source": [
    "## Задание 4"
   ]
  },
  {
   "attachments": {},
   "cell_type": "markdown",
   "metadata": {},
   "source": [
    "### 4.1 Сгенерируйте случайные целые числа от 0 до 100 в количестве 5 штук с помощью модуля random\n",
    "* Зафиксируйте псевдогенерацию, чтобы сгенерированные значения всегда были одинаковые\n",
    "* Используйте list comprehensions\n"
   ]
  },
  {
   "cell_type": "code",
   "execution_count": 222,
   "metadata": {},
   "outputs": [
    {
     "data": {
      "text/plain": [
       "[17, 72, 97, 8, 32]"
      ]
     },
     "execution_count": 222,
     "metadata": {},
     "output_type": "execute_result"
    }
   ],
   "source": [
    "import random\n",
    "import time\n",
    "random.seed(1)\n",
    "data = [random.randint (0, 100) for _ in range(5)]\n",
    "data"
   ]
  },
  {
   "attachments": {},
   "cell_type": "markdown",
   "metadata": {},
   "source": [
    "### 4.2 Напишите генератор\n",
    "* Генератор на вход принимает список с данными о клиенте (данные из пункта 4.1)\n",
    "* Внутри генератора реализуйте обход по списку с данными\n",
    "На каждой итерации генератор будет возвращать кортеж из двух элементов:\n",
    "1. данные по клиенту (в зависимости от итерации, на 0 итерации\n",
    "вернется 0 элемент, на 1 итерации вернется 1 элемент и тд)\n",
    "2. целочисленное значение, которое показывает, сколько секунд\n",
    "прошло с предыдущей итерации\n",
    "\n",
    "Примечание: секунды, которые возвращаются должны показывать время не\n",
    "с начала запуска генератора, а именно то время, которое прошло с\n",
    "предыдущей итерации. А значит время на первой итерации должно\n",
    "равняться 0.\n",
    "* Используйте функцию time из модуля time для подсчета времени.\n",
    "* Чтобы проверить работу таймера, запустите проход по генератору в цикле с time.sleep(2)"
   ]
  },
  {
   "cell_type": "code",
   "execution_count": 223,
   "metadata": {},
   "outputs": [],
   "source": [
    "def Gen (lst: list)-> tuple:\n",
    "    last_time = 0\n",
    "    for num in lst:\n",
    "        c_time = time.time()\n",
    "        if last_time:\n",
    "            delta = c_time - last_time\n",
    "        else:\n",
    "            delta = 0\n",
    "        last_time = time.time()\n",
    "        yield(num, delta)"
   ]
  },
  {
   "cell_type": "code",
   "execution_count": 224,
   "metadata": {},
   "outputs": [
    {
     "name": "stdout",
     "output_type": "stream",
     "text": [
      "(17, 0)\n",
      "(72, 2.0010807514190674)\n",
      "(97, 2.002161979675293)\n"
     ]
    },
    {
     "name": "stdout",
     "output_type": "stream",
     "text": [
      "(8, 2.0003445148468018)\n",
      "(32, 2.001159906387329)\n"
     ]
    }
   ],
   "source": [
    "for n in Gen(data):\n",
    "    print(n)\n",
    "    time.sleep(2)"
   ]
  },
  {
   "cell_type": "code",
   "execution_count": 225,
   "metadata": {},
   "outputs": [],
   "source": [
    "def Gen_2 (lst: list)-> tuple:\n",
    "    last_time = time.time()\n",
    "    for num in lst:\n",
    "        c_time = time.time()\n",
    "        delta = c_time - last_time\n",
    "        last_time = c_time\n",
    "        yield(num, delta)"
   ]
  },
  {
   "cell_type": "code",
   "execution_count": 226,
   "metadata": {},
   "outputs": [
    {
     "name": "stdout",
     "output_type": "stream",
     "text": [
      "(17, 0.0)\n"
     ]
    },
    {
     "name": "stdout",
     "output_type": "stream",
     "text": [
      "(72, 2.0016486644744873)\n",
      "(97, 2.0006179809570312)\n",
      "(8, 2.000253677368164)\n",
      "(32, 2.002140760421753)\n"
     ]
    }
   ],
   "source": [
    "for n in Gen_2(data):\n",
    "    print(n)\n",
    "    time.sleep(2)"
   ]
  },
  {
   "attachments": {},
   "cell_type": "markdown",
   "metadata": {},
   "source": [
    "## Задание 5"
   ]
  },
  {
   "attachments": {},
   "cell_type": "markdown",
   "metadata": {},
   "source": [
    "![Рисунок]: (https://w.forfun.com/fetch/7d/7db7d55995bd8690e98b42b2d57aa496.jpeg)"
   ]
  },
  {
   "attachments": {},
   "cell_type": "markdown",
   "metadata": {},
   "source": [
    "<img src=https://w.forfun.com/fetch/7d/7db7d55995bd8690e98b42b2d57aa496.jpeg width = 500>"
   ]
  },
  {
   "attachments": {},
   "cell_type": "markdown",
   "metadata": {},
   "source": [
    "### 5.2 Создайте следующую таблицу в ячейке с текстом"
   ]
  },
  {
   "attachments": {},
   "cell_type": "markdown",
   "metadata": {},
   "source": [
    "<table>\n",
    "    <tr>\n",
    "        <td></td>\n",
    "        <td> до события </td>\n",
    "        <td> Во время события </td>\n",
    "    </tr>\n",
    "    <tr>\n",
    "        <td> 1 точка </td>\n",
    "        <td> 250 </td>\n",
    "        <td> 500 </td>\n",
    "    </tr>\n",
    "      <tr>\n",
    "        <td> 2 точка</td>\n",
    "        <td> 350 </td>\n",
    "        <td> 700 </td>\n",
    "    </tr>\n",
    "       <tr>\n",
    "        <td> 3 точка </td>\n",
    "        <td> 400 </td>\n",
    "        <td> 800 </td>\n",
    "    </tr>\n",
    "       <tr>\n",
    "        <td> Итого </td>\n",
    "        <td> 1000 </td>\n",
    "        <td> 2000 </td>\n",
    "    </tr>\n",
    "</tanle>"
   ]
  },
  {
   "attachments": {},
   "cell_type": "markdown",
   "metadata": {},
   "source": [
    "## Задание 6."
   ]
  },
  {
   "attachments": {},
   "cell_type": "markdown",
   "metadata": {},
   "source": [
    "### Напишите функцию, которая может принимать любое количество трат пользователя и считать сумму и среднее.\n",
    "* На вход поступают целочисленные значения в любом количестве\n",
    "* На выходе словарь с ключами суммы трат и средней траты"
   ]
  },
  {
   "cell_type": "code",
   "execution_count": 234,
   "metadata": {},
   "outputs": [],
   "source": [
    "def Wastes (*amount):\n",
    "    print (f'элементы суммы: {amount}')\n",
    "    s = sum (amount)\n",
    "    m = s / len(amount)\n",
    "    return {'Сумма': s, 'Средняя трата': m}"
   ]
  },
  {
   "cell_type": "code",
   "execution_count": 250,
   "metadata": {},
   "outputs": [
    {
     "name": "stdout",
     "output_type": "stream",
     "text": [
      "элементы суммы: (35, 93, 30, 76, 14, 41, 4, 3, 4, 84)\n"
     ]
    },
    {
     "data": {
      "text/plain": [
       "{'Сумма': 384, 'Средняя трата': 38.4}"
      ]
     },
     "execution_count": 250,
     "metadata": {},
     "output_type": "execute_result"
    }
   ],
   "source": [
    "numbers = list()\n",
    "for i in range(10):\n",
    "    numbers.append(random.randint(1,100))\n",
    "Wastes(*numbers)"
   ]
  }
 ],
 "metadata": {
  "kernelspec": {
   "display_name": "Python 3",
   "language": "python",
   "name": "python3"
  },
  "language_info": {
   "codemirror_mode": {
    "name": "ipython",
    "version": 3
   },
   "file_extension": ".py",
   "mimetype": "text/x-python",
   "name": "python",
   "nbconvert_exporter": "python",
   "pygments_lexer": "ipython3",
   "version": "3.11.2"
  },
  "orig_nbformat": 4
 },
 "nbformat": 4,
 "nbformat_minor": 2
}
